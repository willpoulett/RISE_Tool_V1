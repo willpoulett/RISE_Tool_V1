{
 "cells": [
  {
   "cell_type": "markdown",
   "metadata": {},
   "source": [
    "# Label Tool"
   ]
  },
  {
   "cell_type": "code",
   "execution_count": 1,
   "metadata": {},
   "outputs": [
    {
     "name": "stdout",
     "output_type": "stream",
     "text": [
      "Requirement already satisfied: bokeh in c:\\users\\will poulett\\appdata\\local\\programs\\python\\python311\\lib\\site-packages (from -r requirements.txt (line 1)) (2.4.3)\n",
      "Requirement already satisfied: numpy in c:\\users\\will poulett\\appdata\\local\\programs\\python\\python311\\lib\\site-packages (from -r requirements.txt (line 2)) (1.24.2)\n",
      "Requirement already satisfied: opencv-python in c:\\users\\will poulett\\appdata\\local\\programs\\python\\python311\\lib\\site-packages (from -r requirements.txt (line 3)) (4.8.0.74)\n",
      "Requirement already satisfied: Pillow in c:\\users\\will poulett\\appdata\\local\\programs\\python\\python311\\lib\\site-packages (from -r requirements.txt (line 4)) (9.3.0)\n",
      "Requirement already satisfied: pandas in c:\\users\\will poulett\\appdata\\local\\programs\\python\\python311\\lib\\site-packages (from -r requirements.txt (line 5)) (1.5.3)\n",
      "Requirement already satisfied: ipywidgets in c:\\users\\will poulett\\appdata\\local\\programs\\python\\python311\\lib\\site-packages (from -r requirements.txt (line 6)) (8.1.2)\n",
      "Requirement already satisfied: Jinja2>=2.9 in c:\\users\\will poulett\\appdata\\local\\programs\\python\\python311\\lib\\site-packages (from bokeh->-r requirements.txt (line 1)) (3.1.2)\n",
      "Requirement already satisfied: packaging>=16.8 in c:\\users\\will poulett\\appdata\\roaming\\python\\python311\\site-packages (from bokeh->-r requirements.txt (line 1)) (23.1)\n",
      "Requirement already satisfied: PyYAML>=3.10 in c:\\users\\will poulett\\appdata\\local\\programs\\python\\python311\\lib\\site-packages (from bokeh->-r requirements.txt (line 1)) (6.0)\n",
      "Requirement already satisfied: tornado>=5.1 in c:\\users\\will poulett\\appdata\\roaming\\python\\python311\\site-packages (from bokeh->-r requirements.txt (line 1)) (6.3.2)\n",
      "Requirement already satisfied: typing-extensions>=3.10.0 in c:\\users\\will poulett\\appdata\\local\\programs\\python\\python311\\lib\\site-packages (from bokeh->-r requirements.txt (line 1)) (4.12.2)\n",
      "Requirement already satisfied: python-dateutil>=2.8.1 in c:\\users\\will poulett\\appdata\\roaming\\python\\python311\\site-packages (from pandas->-r requirements.txt (line 5)) (2.8.2)\n",
      "Requirement already satisfied: pytz>=2020.1 in c:\\users\\will poulett\\appdata\\local\\programs\\python\\python311\\lib\\site-packages (from pandas->-r requirements.txt (line 5)) (2023.3)\n",
      "Requirement already satisfied: comm>=0.1.3 in c:\\users\\will poulett\\appdata\\roaming\\python\\python311\\site-packages (from ipywidgets->-r requirements.txt (line 6)) (0.1.3)\n",
      "Requirement already satisfied: ipython>=6.1.0 in c:\\users\\will poulett\\appdata\\roaming\\python\\python311\\site-packages (from ipywidgets->-r requirements.txt (line 6)) (8.13.2)\n",
      "Requirement already satisfied: traitlets>=4.3.1 in c:\\users\\will poulett\\appdata\\roaming\\python\\python311\\site-packages (from ipywidgets->-r requirements.txt (line 6)) (5.9.0)\n",
      "Requirement already satisfied: widgetsnbextension~=4.0.10 in c:\\users\\will poulett\\appdata\\local\\programs\\python\\python311\\lib\\site-packages (from ipywidgets->-r requirements.txt (line 6)) (4.0.10)\n",
      "Requirement already satisfied: jupyterlab-widgets~=3.0.10 in c:\\users\\will poulett\\appdata\\local\\programs\\python\\python311\\lib\\site-packages (from ipywidgets->-r requirements.txt (line 6)) (3.0.10)\n",
      "Requirement already satisfied: backcall in c:\\users\\will poulett\\appdata\\roaming\\python\\python311\\site-packages (from ipython>=6.1.0->ipywidgets->-r requirements.txt (line 6)) (0.2.0)\n",
      "Requirement already satisfied: decorator in c:\\users\\will poulett\\appdata\\roaming\\python\\python311\\site-packages (from ipython>=6.1.0->ipywidgets->-r requirements.txt (line 6)) (5.1.1)\n",
      "Requirement already satisfied: jedi>=0.16 in c:\\users\\will poulett\\appdata\\roaming\\python\\python311\\site-packages (from ipython>=6.1.0->ipywidgets->-r requirements.txt (line 6)) (0.18.2)\n",
      "Requirement already satisfied: matplotlib-inline in c:\\users\\will poulett\\appdata\\roaming\\python\\python311\\site-packages (from ipython>=6.1.0->ipywidgets->-r requirements.txt (line 6)) (0.1.6)\n",
      "Requirement already satisfied: pickleshare in c:\\users\\will poulett\\appdata\\roaming\\python\\python311\\site-packages (from ipython>=6.1.0->ipywidgets->-r requirements.txt (line 6)) (0.7.5)\n",
      "Requirement already satisfied: prompt-toolkit!=3.0.37,<3.1.0,>=3.0.30 in c:\\users\\will poulett\\appdata\\roaming\\python\\python311\\site-packages (from ipython>=6.1.0->ipywidgets->-r requirements.txt (line 6)) (3.0.38)\n",
      "Requirement already satisfied: pygments>=2.4.0 in c:\\users\\will poulett\\appdata\\roaming\\python\\python311\\site-packages (from ipython>=6.1.0->ipywidgets->-r requirements.txt (line 6)) (2.15.1)\n",
      "Requirement already satisfied: stack-data in c:\\users\\will poulett\\appdata\\roaming\\python\\python311\\site-packages (from ipython>=6.1.0->ipywidgets->-r requirements.txt (line 6)) (0.6.2)\n",
      "Requirement already satisfied: colorama in c:\\users\\will poulett\\appdata\\local\\programs\\python\\python311\\lib\\site-packages (from ipython>=6.1.0->ipywidgets->-r requirements.txt (line 6)) (0.4.6)\n",
      "Requirement already satisfied: MarkupSafe>=2.0 in c:\\users\\will poulett\\appdata\\local\\programs\\python\\python311\\lib\\site-packages (from Jinja2>=2.9->bokeh->-r requirements.txt (line 1)) (2.1.2)\n",
      "Requirement already satisfied: six>=1.5 in c:\\users\\will poulett\\appdata\\local\\programs\\python\\python311\\lib\\site-packages (from python-dateutil>=2.8.1->pandas->-r requirements.txt (line 5)) (1.16.0)\n",
      "Requirement already satisfied: parso<0.9.0,>=0.8.0 in c:\\users\\will poulett\\appdata\\roaming\\python\\python311\\site-packages (from jedi>=0.16->ipython>=6.1.0->ipywidgets->-r requirements.txt (line 6)) (0.8.3)\n",
      "Requirement already satisfied: wcwidth in c:\\users\\will poulett\\appdata\\roaming\\python\\python311\\site-packages (from prompt-toolkit!=3.0.37,<3.1.0,>=3.0.30->ipython>=6.1.0->ipywidgets->-r requirements.txt (line 6)) (0.2.6)\n",
      "Requirement already satisfied: executing>=1.2.0 in c:\\users\\will poulett\\appdata\\roaming\\python\\python311\\site-packages (from stack-data->ipython>=6.1.0->ipywidgets->-r requirements.txt (line 6)) (1.2.0)\n",
      "Requirement already satisfied: asttokens>=2.1.0 in c:\\users\\will poulett\\appdata\\roaming\\python\\python311\\site-packages (from stack-data->ipython>=6.1.0->ipywidgets->-r requirements.txt (line 6)) (2.2.1)\n",
      "Requirement already satisfied: pure-eval in c:\\users\\will poulett\\appdata\\roaming\\python\\python311\\site-packages (from stack-data->ipython>=6.1.0->ipywidgets->-r requirements.txt (line 6)) (0.2.2)\n"
     ]
    },
    {
     "name": "stderr",
     "output_type": "stream",
     "text": [
      "\n",
      "[notice] A new release of pip is available: 24.2 -> 24.3.1\n",
      "[notice] To update, run: python.exe -m pip install --upgrade pip\n"
     ]
    }
   ],
   "source": [
    "# If using github codespaces you may need to run:\n",
    "!pip install -r requirements.txt"
   ]
  },
  {
   "cell_type": "markdown",
   "metadata": {},
   "source": [
    "This is an Image Labelling tool. You are labelling a synthtic dataset used to evaluate a machine learning classifer. \n",
    "\n",
    "You will be asked to label an animal as either: `Domestic Cat, Domestic Dog or Wildife` \n",
    "\n",
    "Sometimes you will be given the model's prediction. You are allowed to use this to help your decision making, or you can ignore it. "
   ]
  },
  {
   "cell_type": "markdown",
   "metadata": {},
   "source": [
    "If the tool below takes longer than 30 seconds to run, please click `restart` at the top of the notebook."
   ]
  },
  {
   "cell_type": "markdown",
   "metadata": {},
   "source": [
    "# Definitions:\n",
    "\n",
    "- A `Domestic Dog` is any dog that is tame and kept by humans.\n",
    "- A `Domestic Cat` is any cat that is tame and kept by humans.\n",
    "- `Wildlife` is any non-domestic animal.\n",
    "\n",
    "These images are intentionally hard to classify. If you are struggling to classify an image, please pick the most appropriate category. "
   ]
  },
  {
   "cell_type": "code",
   "execution_count": 2,
   "metadata": {},
   "outputs": [
    {
     "data": {
      "application/vnd.jupyter.widget-view+json": {
       "model_id": "1a2af50d98884e838f97a99ddfc14d71",
       "version_major": 2,
       "version_minor": 0
      },
      "text/plain": [
       "HBox(children=(Image(value=b''), VBox(children=(Output(layout=Layout(height='170px')), HBox(children=(Button(d…"
      ]
     },
     "metadata": {},
     "output_type": "display_data"
    }
   ],
   "source": [
    "from utils.labelling_tool import start_labeling\n",
    "\n",
    "ID_NUM = 1 # This can be a 0 or 1. It decides which images you will get a prediction for.\n",
    "\n",
    "start_labeling(\"labelling/init_df.csv\",ID_NUM)"
   ]
  }
 ],
 "metadata": {
  "kernelspec": {
   "display_name": "Python 3",
   "language": "python",
   "name": "python3"
  },
  "language_info": {
   "codemirror_mode": {
    "name": "ipython",
    "version": 3
   },
   "file_extension": ".py",
   "mimetype": "text/x-python",
   "name": "python",
   "nbconvert_exporter": "python",
   "pygments_lexer": "ipython3",
   "version": "3.11.3"
  }
 },
 "nbformat": 4,
 "nbformat_minor": 2
}
