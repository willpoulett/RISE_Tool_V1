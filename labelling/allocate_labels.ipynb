{
 "cells": [
  {
   "cell_type": "markdown",
   "metadata": {},
   "source": [
    "This notebook generates a list of labels which can be read directly into the RISE tool. It joins labels collected from the labelling tool with images where there is already a label. "
   ]
  },
  {
   "cell_type": "code",
   "execution_count": null,
   "metadata": {},
   "outputs": [],
   "source": [
    "import pandas as pd\n",
    "import os"
   ]
  },
  {
   "cell_type": "code",
   "execution_count": null,
   "metadata": {},
   "outputs": [],
   "source": [
    "init_df = pd.read_csv(\"init_df.csv\")"
   ]
  },
  {
   "cell_type": "code",
   "execution_count": null,
   "metadata": {},
   "outputs": [],
   "source": [
    "annotated_labels = pd.read_csv(\"annotated_labels_edge_case.csv\")[\"Label Both\"]\n",
    "non_edge_case_labels = pd.read_csv(\"annotated_labels_non_edge_case.csv\")[\"user_vote_without_prediction\"]"
   ]
  },
  {
   "cell_type": "code",
   "execution_count": null,
   "metadata": {},
   "outputs": [],
   "source": [
    "import os, glob\n",
    "all_labels = []\n",
    "\n",
    "edge_case_counter = 0\n",
    "edge_case_i = 0\n",
    "non_edge_case_counter = 0\n",
    "non_edge_case_i = 0\n",
    "image_paths = []\n",
    "\n",
    "for i, file in enumerate(os.listdir(\"../edge_case_images\")):\n",
    "    image_paths.append(f\"../edge_case_images/{file}\")\n",
    "    all_labels.append(annotated_labels[i])\n",
    "\n",
    "for i, file in enumerate(os.listdir(\"../non_edge_case_images\")):\n",
    "    image_paths.append(f\"../non_edge_case_images/{file}\")\n",
    "    all_labels.append(non_edge_case_labels[i])\n"
   ]
  },
  {
   "cell_type": "code",
   "execution_count": null,
   "metadata": {},
   "outputs": [],
   "source": [
    "pd.DataFrame({\"label\":all_labels}).to_csv(\"all_labels.csv\")"
   ]
  },
  {
   "cell_type": "code",
   "execution_count": null,
   "metadata": {},
   "outputs": [],
   "source": [
    "import matplotlib.pyplot as plt\n",
    "import cv2\n",
    "\n",
    "images = []\n",
    "\n",
    "for path in image_paths:\n",
    "    img_arr = cv2.imread(path)\n",
    "    img_arr = cv2.cvtColor(img_arr, cv2.COLOR_BGR2RGB)\n",
    "    resized_arr = cv2.resize(img_arr, (256,256)) # Reshaping images to preferred size\n",
    "    images.append(resized_arr)\n",
    "\n",
    "fig, axs = plt.subplots(10,10, figsize = (16,16))\n",
    "\n",
    "for i, ax in enumerate(axs.flat):\n",
    "    try:\n",
    "        ax.imshow(images[i])\n",
    "        ax.axis(\"off\")\n",
    "        ax.set_title(f\"Label: {all_labels[i]}\",  fontsize=8)\n",
    "    except:\n",
    "        ax.axis(\"off\")\n",
    "\n",
    "fig.subplots_adjust(wspace=0.1, hspace=0.2) "
   ]
  }
 ],
 "metadata": {
  "kernelspec": {
   "display_name": "Python 3",
   "language": "python",
   "name": "python3"
  },
  "language_info": {
   "codemirror_mode": {
    "name": "ipython",
    "version": 3
   },
   "file_extension": ".py",
   "mimetype": "text/x-python",
   "name": "python",
   "nbconvert_exporter": "python",
   "pygments_lexer": "ipython3",
   "version": "3.11.3"
  }
 },
 "nbformat": 4,
 "nbformat_minor": 2
}
