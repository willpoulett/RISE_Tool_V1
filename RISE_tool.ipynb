{
 "cells": [
  {
   "cell_type": "markdown",
   "metadata": {},
   "source": [
    "# RISE\n",
    "\n",
    "First, install requirements."
   ]
  },
  {
   "cell_type": "code",
   "execution_count": null,
   "metadata": {},
   "outputs": [],
   "source": [
    "%pip install -r requirements.txt"
   ]
  },
  {
   "cell_type": "markdown",
   "metadata": {},
   "source": [
    "Import the necessary functions and modules."
   ]
  },
  {
   "cell_type": "code",
   "execution_count": null,
   "metadata": {},
   "outputs": [],
   "source": [
    "import pandas as pd\n",
    "\n",
    "from bokeh.plotting import output_notebook\n",
    "from utils.plotting_utils import RISE_tool\n",
    "from utils.utils import init\n"
   ]
  },
  {
   "cell_type": "code",
   "execution_count": null,
   "metadata": {},
   "outputs": [],
   "source": [
    "image_paths = init()\n",
    "RISE_csv = pd.read_csv(\"RISE_CSV.csv\")\n",
    "\n",
    "coordinates_list = [dict(x=RISE_csv.TSNE_x, y=RISE_csv.TSNE_y),\n",
    "                    dict(x=RISE_csv.PCA_x,  y=RISE_csv.PCA_y),\n",
    "                    dict(x=RISE_csv.FA_x,y=RISE_csv.FA_y),\n",
    "                    dict(x=RISE_csv.IS_x,y=RISE_csv.IS_y),\n",
    "                    dict(x=RISE_csv.UM_x, y=RISE_csv.UM_y)]"
   ]
  },
  {
   "cell_type": "markdown",
   "metadata": {},
   "source": [
    "Use the tool.\n",
    "\n",
    "`USE_LABELS`, when set to `True`. Will show the labels of each synthetic image. Labels were collected from 14 voulenteers."
   ]
  },
  {
   "cell_type": "code",
   "execution_count": null,
   "metadata": {},
   "outputs": [],
   "source": [
    "USE_LABELS = True\n",
    "# Ensure Bokeh outputs to the notebook\n",
    "output_notebook()\n",
    "\n",
    "RISE_tool(coordinates_list=coordinates_list,\n",
    "          predictions = RISE_csv.predictions,\n",
    "          image_paths = image_paths,\n",
    "          colours = RISE_csv.colours,\n",
    "          markers = RISE_csv.markers if USE_LABELS else None)"
   ]
  }
 ],
 "metadata": {
  "kernelspec": {
   "display_name": "Python 3",
   "language": "python",
   "name": "python3"
  },
  "language_info": {
   "codemirror_mode": {
    "name": "ipython",
    "version": 3
   },
   "file_extension": ".py",
   "mimetype": "text/x-python",
   "name": "python",
   "nbconvert_exporter": "python",
   "pygments_lexer": "ipython3",
   "version": "3.11.3"
  }
 },
 "nbformat": 4,
 "nbformat_minor": 2
}
